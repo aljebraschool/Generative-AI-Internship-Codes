{
  "nbformat": 4,
  "nbformat_minor": 0,
  "metadata": {
    "colab": {
      "provenance": [],
      "authorship_tag": "ABX9TyO7sfJ4dwgKBD4boEx3FEml",
      "include_colab_link": true
    },
    "kernelspec": {
      "name": "python3",
      "display_name": "Python 3"
    },
    "language_info": {
      "name": "python"
    }
  },
  "cells": [
    {
      "cell_type": "markdown",
      "metadata": {
        "id": "view-in-github",
        "colab_type": "text"
      },
      "source": [
        "<a href=\"https://colab.research.google.com/github/aljebraschool/Generative-AI-Internship-Codes/blob/main/Langchain_Prompt_Practice.ipynb\" target=\"_parent\"><img src=\"https://colab.research.google.com/assets/colab-badge.svg\" alt=\"Open In Colab\"/></a>"
      ]
    },
    {
      "cell_type": "code",
      "execution_count": null,
      "metadata": {
        "id": "5ftUD-BgHKPq",
        "colab": {
          "base_uri": "https://localhost:8080/"
        },
        "outputId": "19324dee-1d43-4e99-a9ac-76c9c8317064"
      },
      "outputs": [
        {
          "output_type": "stream",
          "name": "stdout",
          "text": [
            "Requirement already satisfied: openai in /usr/local/lib/python3.10/dist-packages (1.28.1)\n",
            "Requirement already satisfied: anyio<5,>=3.5.0 in /usr/local/lib/python3.10/dist-packages (from openai) (3.7.1)\n",
            "Requirement already satisfied: distro<2,>=1.7.0 in /usr/lib/python3/dist-packages (from openai) (1.7.0)\n",
            "Requirement already satisfied: httpx<1,>=0.23.0 in /usr/local/lib/python3.10/dist-packages (from openai) (0.27.0)\n",
            "Requirement already satisfied: pydantic<3,>=1.9.0 in /usr/local/lib/python3.10/dist-packages (from openai) (2.7.1)\n",
            "Requirement already satisfied: sniffio in /usr/local/lib/python3.10/dist-packages (from openai) (1.3.1)\n",
            "Requirement already satisfied: tqdm>4 in /usr/local/lib/python3.10/dist-packages (from openai) (4.66.4)\n",
            "Requirement already satisfied: typing-extensions<5,>=4.7 in /usr/local/lib/python3.10/dist-packages (from openai) (4.11.0)\n",
            "Requirement already satisfied: idna>=2.8 in /usr/local/lib/python3.10/dist-packages (from anyio<5,>=3.5.0->openai) (3.7)\n",
            "Requirement already satisfied: exceptiongroup in /usr/local/lib/python3.10/dist-packages (from anyio<5,>=3.5.0->openai) (1.2.1)\n",
            "Requirement already satisfied: certifi in /usr/local/lib/python3.10/dist-packages (from httpx<1,>=0.23.0->openai) (2024.2.2)\n",
            "Requirement already satisfied: httpcore==1.* in /usr/local/lib/python3.10/dist-packages (from httpx<1,>=0.23.0->openai) (1.0.5)\n",
            "Requirement already satisfied: h11<0.15,>=0.13 in /usr/local/lib/python3.10/dist-packages (from httpcore==1.*->httpx<1,>=0.23.0->openai) (0.14.0)\n",
            "Requirement already satisfied: annotated-types>=0.4.0 in /usr/local/lib/python3.10/dist-packages (from pydantic<3,>=1.9.0->openai) (0.6.0)\n",
            "Requirement already satisfied: pydantic-core==2.18.2 in /usr/local/lib/python3.10/dist-packages (from pydantic<3,>=1.9.0->openai) (2.18.2)\n"
          ]
        }
      ],
      "source": [
        "#install openai package\n",
        "!pip install openai"
      ]
    },
    {
      "cell_type": "code",
      "source": [
        "api_key ="
      ],
      "metadata": {
        "id": "WsbNzxt99U8D"
      },
      "execution_count": null,
      "outputs": []
    },
    {
      "cell_type": "markdown",
      "source": [
        "### Zero-Shot Prompting"
      ],
      "metadata": {
        "id": "OCJZEL2Fbb_3"
      }
    },
    {
      "cell_type": "code",
      "source": [
        "from openai import Client\n",
        "# Initialize the OpenAI client\n",
        "client = Client(api_key= api_key)\n",
        "\n",
        "# Define the messages for chat completion\n",
        "messages = [\n",
        "    {\"role\": \"system\", \"content\": \"Classify the text into neutral, negative or possitve\"},\n",
        "    {\"role\": \"user\", \"content\": \"I think the vacasion is okay\"}\n",
        "]\n",
        "\n",
        "# Create the chat completion\n",
        "completion = client.chat.completions.create(\n",
        "    model=\"gpt-3.5-turbo\",\n",
        "    messages=messages\n",
        ")\n",
        "\n",
        "#print the content of the model response\n",
        "print(completion.choices[0].message.content)"
      ],
      "metadata": {
        "colab": {
          "base_uri": "https://localhost:8080/"
        },
        "id": "DSgvV0uXjDxJ",
        "outputId": "01d399ed-f007-41ef-b33b-057dbae720ac"
      },
      "execution_count": null,
      "outputs": [
        {
          "output_type": "stream",
          "name": "stdout",
          "text": [
            "Neutral\n"
          ]
        }
      ]
    },
    {
      "cell_type": "markdown",
      "source": [
        "### Few-Shot Prompting"
      ],
      "metadata": {
        "id": "8IDcjfaEcAWa"
      }
    },
    {
      "cell_type": "code",
      "source": [
        "messages = [\n",
        "    {'role': 'system', 'content': 'The task is to correctly use new words in a sentence'},\n",
        "    {'role': 'user', 'content': '''\n",
        "    A whatpu is a+ small, furry animal native to Tanzania. An example of a sentence that uses the word whatpu is:\n",
        "  we were traveling in Africa and we saw these very cute whatpus.\n",
        "  To do a \"fardubble\" means to jump up and very fast. An example of a sentence that uses the word fardubble is\n",
        "  '''}\n",
        "]\n",
        "\n",
        "\n",
        "# Initialize the OpenAI client\n",
        "client = Client(api_key= api_key)\n",
        "\n",
        "\n",
        "# Create the chat completion\n",
        "completion = client.chat.completions.create(\n",
        "    model=\"gpt-3.5-turbo\",\n",
        "    messages=messages\n",
        ")\n",
        "\n",
        "#print the content of the model response\n",
        "print(completion.choices[0].message.content)"
      ],
      "metadata": {
        "id": "YCBmeZJvsPU3",
        "colab": {
          "base_uri": "https://localhost:8080/"
        },
        "outputId": "2571a89c-53f5-4e54-f7c4-285d0328a8bf"
      },
      "execution_count": null,
      "outputs": [
        {
          "output_type": "stream",
          "name": "stdout",
          "text": [
            "The children were so excited to watch the kangaroo fardubble over the fence at the zoo.\n"
          ]
        }
      ]
    },
    {
      "cell_type": "markdown",
      "source": [
        "### Chain-of-Thought Prompting"
      ],
      "metadata": {
        "id": "ImLpQhL-cKSn"
      }
    },
    {
      "cell_type": "code",
      "source": [
        "messages = [\n",
        "    {'role': 'system', 'content': 'Implementing chain of thought prompting'},\n",
        "    {'role': 'user', 'content': '''\n",
        "      The odd number in this group add up to an even number: 4, 8, 9, 15, 12, 2, 1.\n",
        "      A. Adding all the odd numbers, (5, 9, 1) gives 25. The answer is False.\n",
        "\n",
        "      The odd number in this group add up to an even number: 7, 10, 19, 4, 8, 12, 24.\n",
        "      A. Adding all the odd numbers, (17, 19) gives 36. The answer is True.\n",
        "\n",
        "      The odd number in this group add up to an even number: 16, 11, 14, 4, 8, 13, 24.\n",
        "      A. Adding all the odd numbers, (11,13) gives 24. The answer is True.\n",
        "\n",
        "      The odd number in this group add up to an even number: 17, 9, 10, 12, 13, 4, 2.\n",
        "      A. Adding all the odd numbers, (17, 9, 13) gives 39. The answer is False.\n",
        "\n",
        "      The odd number in this group add up to an even number: 15, 32, 5, 13, 82, 7, 1.\n",
        "      A.\n",
        "\n",
        "     '''}\n",
        "]\n",
        "\n",
        "\n",
        "# Initialize the OpenAI client\n",
        "client = Client(api_key= api_key)\n",
        "\n",
        "\n",
        "# Create the chat completion\n",
        "completion = client.chat.completions.create(\n",
        "    model=\"gpt-3.5-turbo\",\n",
        "    messages=messages\n",
        ")\n",
        "\n",
        "#print the content of the model response\n",
        "print(completion.choices[0].message.content)"
      ],
      "metadata": {
        "colab": {
          "base_uri": "https://localhost:8080/"
        },
        "id": "cm6IjbPi_kvs",
        "outputId": "06d36c49-9254-4365-d839-e59d748de3b8"
      },
      "execution_count": null,
      "outputs": [
        {
          "output_type": "stream",
          "name": "stdout",
          "text": [
            "Completing the train of thought:\n",
            "\n",
            "The odd numbers in this group add up to an even number: 15, 32, 5, 13, 82, 7, 1.\n",
            "A. Adding all the odd numbers, (15, 5, 13, 7, 1) gives 41. The answer is False.\n",
            "\n",
            "Let me know if you would like to continue with more prompts or if you have any other questions.\n"
          ]
        }
      ]
    },
    {
      "cell_type": "markdown",
      "source": [
        "### Zero-Shot CoT Prompting"
      ],
      "metadata": {
        "id": "yuPdpfYPcS5n"
      }
    },
    {
      "cell_type": "code",
      "source": [
        "messages = [\n",
        "    {'role': 'system', 'content': 'Implementing zero-shot chain of thought prompting'},\n",
        "    {'role': 'user', 'content': '''\n",
        "      I went to the market and bought 10 oranges and 5 apples. I gave 5 oranges to the neighbor and 2 apples to the repairman.\n",
        "      I then went and bought 5 more oranges and ate 1. How many oranges and apples did I have left? Let's think step by step.\n",
        "\n",
        "     '''}\n",
        "]\n",
        "\n",
        "\n",
        "# Initialize the OpenAI client\n",
        "client = Client(api_key= api_key)\n",
        "\n",
        "\n",
        "# Create the chat completion\n",
        "completion = client.chat.completions.create(\n",
        "    model=\"gpt-3.5-turbo\",\n",
        "    messages=messages\n",
        ")\n",
        "\n",
        "#print the content of the model response\n",
        "print(completion.choices[0].message.content)"
      ],
      "metadata": {
        "colab": {
          "base_uri": "https://localhost:8080/"
        },
        "id": "ossg5mORC2ip",
        "outputId": "88e7fb1b-5623-468d-dcb1-d9c1e0b1247e"
      },
      "execution_count": null,
      "outputs": [
        {
          "output_type": "stream",
          "name": "stdout",
          "text": [
            "Step 1: Initial Purchase\n",
            "- Bought 10 oranges and 5 apples\n",
            "- Total oranges: 10\n",
            "- Total apples: 5\n",
            "\n",
            "Step 2: Giving Away\n",
            "- Gave 5 oranges to the neighbor\n",
            "- Remaining oranges: 10 - 5 = 5\n",
            "- Gave 2 apples to the repairman\n",
            "- Remaining apples: 5 - 2 = 3\n",
            "\n",
            "Step 3: Second Purchase\n",
            "- Bought 5 more oranges\n",
            "- Total oranges now: 5 + 5 = 10\n",
            "- No new apples bought\n",
            "\n",
            "Step 4: Eating an Orange\n",
            "- Ate 1 orange\n",
            "- Remaining oranges: 10 - 1 = 9\n",
            "\n",
            "Therefore, after all these steps, you would have:\n",
            "- Oranges left: 9\n",
            "- Apples left: 3\n"
          ]
        }
      ]
    },
    {
      "cell_type": "code",
      "source": [],
      "metadata": {
        "id": "FoIVT8o4D1tK"
      },
      "execution_count": null,
      "outputs": []
    }
  ]
}