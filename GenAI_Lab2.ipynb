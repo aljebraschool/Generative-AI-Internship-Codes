{
  "nbformat": 4,
  "nbformat_minor": 0,
  "metadata": {
    "colab": {
      "provenance": []
    },
    "kernelspec": {
      "name": "python3",
      "display_name": "Python 3"
    },
    "language_info": {
      "name": "python"
    }
  },
  "cells": [
    {
      "cell_type": "code",
      "execution_count": null,
      "metadata": {
        "colab": {
          "base_uri": "https://localhost:8080/"
        },
        "id": "iUxU-kk2Z9wm",
        "outputId": "bafa208e-ff4b-4273-a42d-cf8bb5324aa3"
      },
      "outputs": [
        {
          "output_type": "stream",
          "name": "stdout",
          "text": [
            "Requirement already satisfied: openai in /usr/local/lib/python3.10/dist-packages (1.23.3)\n",
            "Requirement already satisfied: anyio<5,>=3.5.0 in /usr/local/lib/python3.10/dist-packages (from openai) (3.7.1)\n",
            "Requirement already satisfied: distro<2,>=1.7.0 in /usr/lib/python3/dist-packages (from openai) (1.7.0)\n",
            "Requirement already satisfied: httpx<1,>=0.23.0 in /usr/local/lib/python3.10/dist-packages (from openai) (0.27.0)\n",
            "Requirement already satisfied: pydantic<3,>=1.9.0 in /usr/local/lib/python3.10/dist-packages (from openai) (2.7.0)\n",
            "Requirement already satisfied: sniffio in /usr/local/lib/python3.10/dist-packages (from openai) (1.3.1)\n",
            "Requirement already satisfied: tqdm>4 in /usr/local/lib/python3.10/dist-packages (from openai) (4.66.2)\n",
            "Requirement already satisfied: typing-extensions<5,>=4.7 in /usr/local/lib/python3.10/dist-packages (from openai) (4.11.0)\n",
            "Requirement already satisfied: idna>=2.8 in /usr/local/lib/python3.10/dist-packages (from anyio<5,>=3.5.0->openai) (3.7)\n",
            "Requirement already satisfied: exceptiongroup in /usr/local/lib/python3.10/dist-packages (from anyio<5,>=3.5.0->openai) (1.2.1)\n",
            "Requirement already satisfied: certifi in /usr/local/lib/python3.10/dist-packages (from httpx<1,>=0.23.0->openai) (2024.2.2)\n",
            "Requirement already satisfied: httpcore==1.* in /usr/local/lib/python3.10/dist-packages (from httpx<1,>=0.23.0->openai) (1.0.5)\n",
            "Requirement already satisfied: h11<0.15,>=0.13 in /usr/local/lib/python3.10/dist-packages (from httpcore==1.*->httpx<1,>=0.23.0->openai) (0.14.0)\n",
            "Requirement already satisfied: annotated-types>=0.4.0 in /usr/local/lib/python3.10/dist-packages (from pydantic<3,>=1.9.0->openai) (0.6.0)\n",
            "Requirement already satisfied: pydantic-core==2.18.1 in /usr/local/lib/python3.10/dist-packages (from pydantic<3,>=1.9.0->openai) (2.18.1)\n"
          ]
        }
      ],
      "source": [
        "#install openai library\n",
        "!pip install openai"
      ]
    },
    {
      "cell_type": "code",
      "source": [
        "#import needed libraries\n",
        "from api_key import api_key #import api_key python file\n",
        "import os #import operating system for directory\n",
        "from openai import Client #from openai import client class for api key\n",
        "import IPython"
      ],
      "metadata": {
        "id": "eaDOjRN1dH-a"
      },
      "execution_count": null,
      "outputs": []
    },
    {
      "cell_type": "code",
      "source": [
        "#set openai key with my api_key\n",
        "os.environ[\"OPENAI_API_KEY\"] = api_key"
      ],
      "metadata": {
        "id": "040Ox3gt2VWc"
      },
      "execution_count": null,
      "outputs": []
    },
    {
      "cell_type": "code",
      "source": [
        "#create an object of client class\n",
        "client = Client()"
      ],
      "metadata": {
        "id": "TYThsjEGhmDu"
      },
      "execution_count": null,
      "outputs": []
    },
    {
      "cell_type": "code",
      "source": [
        "#function to set OpenAI parameters\n",
        "def set_open_params(**kwargs):\n",
        "\n",
        " #set default parameters to be used in the model\n",
        "  default_params = {\n",
        "      'model' : \"gpt-3.5-turbo\",\n",
        "     'temperature' : 0.7,\n",
        "      'max_tokens' : 256,\n",
        "      'top_p' : 1,\n",
        "      'frequency_penalty': 0,\n",
        "      'presence_penalty': 0\n",
        "  }\n",
        "\n",
        "  #update the parameter with a new given value (if any) during the function call\n",
        "  default_params.update(kwargs)\n",
        "  #return the parameters\n",
        "  return default_params\n"
      ],
      "metadata": {
        "id": "5CM7xuQddPbX"
      },
      "execution_count": null,
      "outputs": []
    },
    {
      "cell_type": "code",
      "source": [
        "#create a function to get text completion using openai api\n",
        "\n",
        "def get_completion(prompt, params):\n",
        "\n",
        "  #use the client class to create chat completion model\n",
        "  response = client.chat.completions.create(\n",
        "      #create a structure for inputs to the model\n",
        "      messages = [{'role': 'user', 'content': prompt}],\n",
        "      #unpack all the parameters to be used if none is given use the default parameters in set_open_params function\n",
        "      **params,\n",
        "  )\n",
        "  #return the model response\n",
        "  return response.choices[0].message.content"
      ],
      "metadata": {
        "id": "X3bUQ2vJlLUw"
      },
      "execution_count": null,
      "outputs": []
    },
    {
      "cell_type": "code",
      "source": [
        "#prompt (input) parameters to get_completion function\n",
        "prompt = 'Roses are'\n",
        "\n",
        "#create object to set the needed parameters for your model, here we use default parameters\n",
        "params = set_open_params()\n",
        "\n",
        "#get responses\n",
        "response = get_completion(prompt, params)"
      ],
      "metadata": {
        "id": "qaoq4KGdn9hH"
      },
      "execution_count": null,
      "outputs": []
    },
    {
      "cell_type": "code",
      "source": [
        "#print result\n",
        "IPython.display.Markdown(response)"
      ],
      "metadata": {
        "colab": {
          "base_uri": "https://localhost:8080/",
          "height": 46
        },
        "id": "i7lV-ayRoc7r",
        "outputId": "134871fd-bdd4-4059-9a89-a2a361ea1c1e"
      },
      "execution_count": null,
      "outputs": [
        {
          "output_type": "execute_result",
          "data": {
            "text/plain": [
              "<IPython.core.display.Markdown object>"
            ],
            "text/markdown": " red, \nViolets are blue, \nSugar is sweet, \nAnd so are you."
          },
          "metadata": {},
          "execution_count": 67
        }
      ]
    },
    {
      "cell_type": "markdown",
      "source": [
        "### Text Summarization\n"
      ],
      "metadata": {
        "id": "WH4p5j166l-o"
      }
    },
    {
      "cell_type": "code",
      "source": [
        "prompt = \"\"\"Keras is a deep learning API written in Python that runs on top of TensorFlow.\n",
        "    It is quite popular among deep learning users because of its ease of use.\n",
        "    TensorFlow is an end-to-end open-source deep learning framework developed and maintained by Google.\n",
        "    Similar to Numpy, TensorFlow allows for mathematical computations and manipulation between numerical tensors, runs on CPUs, GPUs, and TPUs.\n",
        "    Keras was incorporated in TensorFlow 2.0 (the recent version) as tf.keras (high-level API) and can run on the aforementioned hardwares.\n",
        "    TensorFlow also allows for low-level operations with the TensorFlow Core API.\n",
        "\n",
        "    Explain the above in one sentence:\"\"\"\n",
        "\n",
        "#create object to set the needed parameters for your model, here we use default parameters\n",
        "params = set_open_params()\n",
        "\n",
        "#get responses\n",
        "response = get_completion(prompt, params)"
      ],
      "metadata": {
        "id": "FxP3cRzeuPG0"
      },
      "execution_count": null,
      "outputs": []
    },
    {
      "cell_type": "code",
      "source": [
        "#print result\n",
        "IPython.display.Markdown(response)"
      ],
      "metadata": {
        "colab": {
          "base_uri": "https://localhost:8080/",
          "height": 64
        },
        "id": "l1da_x5161Y-",
        "outputId": "864457b0-6dc3-4c15-a735-8256886d06fe"
      },
      "execution_count": null,
      "outputs": [
        {
          "output_type": "execute_result",
          "data": {
            "text/plain": [
              "<IPython.core.display.Markdown object>"
            ],
            "text/markdown": "Keras is a user-friendly deep learning API in Python that runs on top of TensorFlow, an open-source framework developed by Google for mathematical computations and manipulation of numerical tensors on various hardware platforms."
          },
          "metadata": {},
          "execution_count": 69
        }
      ]
    },
    {
      "cell_type": "markdown",
      "source": [
        "### Question Answering"
      ],
      "metadata": {
        "id": "ibsmEbGe8erC"
      }
    },
    {
      "cell_type": "code",
      "source": [
        "prompt = \"\"\"Answer the question based on the context below. Keep the answer short and concise. Respond \"Unsure about answer\" if not sure about the answer.\n",
        "\n",
        "Context: The Avengers were a team of extraordinary individuals, with either superpowers or other special characteristics. Though primarily affiliated with the interests of the United States of America, the group's purpose was to protect global stability from inner or extraterrestrial threats. The Avengers were first assembled by S.H.I.E.L.D. as a result of the Avengers Initiative, when Loki invaded Earth with his Chitauri army. The team, consisting of Iron Man, Captain America, Hulk, Thor, Black Widow and Hawkeye defeated Loki and went their separate ways for a while.\n",
        "\n",
        "Question: Why were the Avengers formed?\n",
        "\n",
        "Answer:\"\"\"\n",
        "\n",
        "#create object to set the needed parameters for your model, here we use default parameters\n",
        "params = set_open_params()\n",
        "\n",
        "#get responses\n",
        "response = get_completion(prompt, params)"
      ],
      "metadata": {
        "id": "BCcgNWRL8eWv"
      },
      "execution_count": null,
      "outputs": []
    },
    {
      "cell_type": "code",
      "source": [
        "#print result\n",
        "IPython.display.Markdown(response)"
      ],
      "metadata": {
        "colab": {
          "base_uri": "https://localhost:8080/",
          "height": 46
        },
        "id": "mULTZdVx62g8",
        "outputId": "80ab8035-34f2-4da2-8722-c0c4a367ce6a"
      },
      "execution_count": null,
      "outputs": [
        {
          "output_type": "execute_result",
          "data": {
            "text/plain": [
              "<IPython.core.display.Markdown object>"
            ],
            "text/markdown": "To protect global stability from inner or extraterrestrial threats."
          },
          "metadata": {},
          "execution_count": 71
        }
      ]
    },
    {
      "cell_type": "markdown",
      "source": [
        "###SQL Generation"
      ],
      "metadata": {
        "id": "fZRRPp_79DS5"
      }
    },
    {
      "cell_type": "code",
      "source": [
        "prompt = \"\\\"\\\"\\\"\\nTable departments, columns = [DepartmentId, DepartmentName]\\nTable students, columns = [DepartmentId, StudentId, StudentName]\\nCreate a PostgreSQL query for all students in the Computer Science Department\\n\\\"\\\"\\\"\"\n",
        "\n",
        "#get responses\n",
        "response = get_completion(prompt, params)\n",
        "\n"
      ],
      "metadata": {
        "id": "8gY4OVUf8r5B"
      },
      "execution_count": null,
      "outputs": []
    },
    {
      "cell_type": "code",
      "source": [
        "#print result\n",
        "IPython.display.Markdown(response)"
      ],
      "metadata": {
        "colab": {
          "base_uri": "https://localhost:8080/",
          "height": 64
        },
        "id": "3A6ppYM-9S0B",
        "outputId": "8b48d78d-3c1f-47c3-d16e-be3371d53bee"
      },
      "execution_count": null,
      "outputs": [
        {
          "output_type": "execute_result",
          "data": {
            "text/plain": [
              "<IPython.core.display.Markdown object>"
            ],
            "text/markdown": "SELECT s.StudentId, s.StudentName\nFROM students s\nJOIN departments d ON s.DepartmentId = d.DepartmentId\nWHERE d.DepartmentName = 'Computer Science';"
          },
          "metadata": {},
          "execution_count": 77
        }
      ]
    },
    {
      "cell_type": "code",
      "source": [],
      "metadata": {
        "id": "15vM-uJD-9V7"
      },
      "execution_count": null,
      "outputs": []
    }
  ]
}