{
  "nbformat": 4,
  "nbformat_minor": 0,
  "metadata": {
    "colab": {
      "provenance": [],
      "authorship_tag": "ABX9TyNVcz8OdzbUO32+TFgFKQ4D",
      "include_colab_link": true
    },
    "kernelspec": {
      "name": "python3",
      "display_name": "Python 3"
    },
    "language_info": {
      "name": "python"
    }
  },
  "cells": [
    {
      "cell_type": "markdown",
      "metadata": {
        "id": "view-in-github",
        "colab_type": "text"
      },
      "source": [
        "<a href=\"https://colab.research.google.com/github/aljebraschool/Generative-AI-Internship-Codes/blob/main/1_prompt_engineering_overview_part2.ipynb\" target=\"_parent\"><img src=\"https://colab.research.google.com/assets/colab-badge.svg\" alt=\"Open In Colab\"/></a>"
      ]
    },
    {
      "cell_type": "markdown",
      "source": [
        "# Overview of Prompt Engineering Techniques & Best Practices"
      ],
      "metadata": {
        "id": "fJzu1rH0FZp-"
      }
    },
    {
      "cell_type": "markdown",
      "source": [
        "## Part 2: Prompt Engineering Techniques\n",
        "\n",
        "In this section, we cover the best prompt engineering techniques and how to apply them."
      ],
      "metadata": {
        "id": "WmlDGuNJFeoC"
      }
    },
    {
      "cell_type": "markdown",
      "source": [
        "We first load the necessary libraries:"
      ],
      "metadata": {
        "id": "Juf4W30VFid0"
      }
    },
    {
      "cell_type": "code",
      "execution_count": null,
      "metadata": {
        "colab": {
          "base_uri": "https://localhost:8080/"
        },
        "id": "KjPGKdnMEpb2",
        "outputId": "491dc0f7-3f78-42a0-eeb6-72c9e5a5786f"
      },
      "outputs": [
        {
          "output_type": "stream",
          "name": "stdout",
          "text": [
            "\u001b[2K     \u001b[90m━━━━━━━━━━━━━━━━━━━━━━━━━━━━━━━━━━━━━━━━\u001b[0m \u001b[32m76.5/76.5 kB\u001b[0m \u001b[31m974.1 kB/s\u001b[0m eta \u001b[36m0:00:00\u001b[0m\n",
            "\u001b[2K     \u001b[90m━━━━━━━━━━━━━━━━━━━━━━━━━━━━━━━━━━━━━━━━\u001b[0m \u001b[32m975.5/975.5 kB\u001b[0m \u001b[31m5.9 MB/s\u001b[0m eta \u001b[36m0:00:00\u001b[0m\n",
            "\u001b[?25h  Preparing metadata (setup.py) ... \u001b[?25l\u001b[?25hdone\n",
            "\u001b[2K     \u001b[90m━━━━━━━━━━━━━━━━━━━━━━━━━━━━━━━━━━━━━━━━\u001b[0m \u001b[32m559.5/559.5 kB\u001b[0m \u001b[31m8.4 MB/s\u001b[0m eta \u001b[36m0:00:00\u001b[0m\n",
            "\u001b[2K     \u001b[90m━━━━━━━━━━━━━━━━━━━━━━━━━━━━━━━━━━━━━━━━\u001b[0m \u001b[32m1.1/1.1 MB\u001b[0m \u001b[31m9.4 MB/s\u001b[0m eta \u001b[36m0:00:00\u001b[0m\n",
            "\u001b[2K     \u001b[90m━━━━━━━━━━━━━━━━━━━━━━━━━━━━━━━━━━━━━━━━\u001b[0m \u001b[32m337.4/337.4 kB\u001b[0m \u001b[31m10.7 MB/s\u001b[0m eta \u001b[36m0:00:00\u001b[0m\n",
            "\u001b[2K     \u001b[90m━━━━━━━━━━━━━━━━━━━━━━━━━━━━━━━━━━━━━━━━\u001b[0m \u001b[32m127.5/127.5 kB\u001b[0m \u001b[31m8.4 MB/s\u001b[0m eta \u001b[36m0:00:00\u001b[0m\n",
            "\u001b[2K     \u001b[90m━━━━━━━━━━━━━━━━━━━━━━━━━━━━━━━━━━━━━━━━\u001b[0m \u001b[32m2.4/2.4 MB\u001b[0m \u001b[31m17.0 MB/s\u001b[0m eta \u001b[36m0:00:00\u001b[0m\n",
            "\u001b[2K     \u001b[90m━━━━━━━━━━━━━━━━━━━━━━━━━━━━━━━━━━━━━━━━\u001b[0m \u001b[32m92.0/92.0 kB\u001b[0m \u001b[31m6.3 MB/s\u001b[0m eta \u001b[36m0:00:00\u001b[0m\n",
            "\u001b[2K     \u001b[90m━━━━━━━━━━━━━━━━━━━━━━━━━━━━━━━━━━━━━━━━\u001b[0m \u001b[32m62.4/62.4 kB\u001b[0m \u001b[31m3.5 MB/s\u001b[0m eta \u001b[36m0:00:00\u001b[0m\n",
            "\u001b[2K     \u001b[90m━━━━━━━━━━━━━━━━━━━━━━━━━━━━━━━━━━━━━━━━\u001b[0m \u001b[32m41.3/41.3 kB\u001b[0m \u001b[31m3.0 MB/s\u001b[0m eta \u001b[36m0:00:00\u001b[0m\n",
            "\u001b[2K     \u001b[90m━━━━━━━━━━━━━━━━━━━━━━━━━━━━━━━━━━━━━━━━\u001b[0m \u001b[32m6.8/6.8 MB\u001b[0m \u001b[31m26.6 MB/s\u001b[0m eta \u001b[36m0:00:00\u001b[0m\n",
            "\u001b[2K     \u001b[90m━━━━━━━━━━━━━━━━━━━━━━━━━━━━━━━━━━━━━━━━\u001b[0m \u001b[32m59.9/59.9 kB\u001b[0m \u001b[31m4.2 MB/s\u001b[0m eta \u001b[36m0:00:00\u001b[0m\n",
            "\u001b[2K     \u001b[90m━━━━━━━━━━━━━━━━━━━━━━━━━━━━━━━━━━━━━━━━\u001b[0m \u001b[32m107.0/107.0 kB\u001b[0m \u001b[31m7.4 MB/s\u001b[0m eta \u001b[36m0:00:00\u001b[0m\n",
            "\u001b[2K     \u001b[90m━━━━━━━━━━━━━━━━━━━━━━━━━━━━━━━━━━━━━━━━\u001b[0m \u001b[32m67.3/67.3 kB\u001b[0m \u001b[31m3.7 MB/s\u001b[0m eta \u001b[36m0:00:00\u001b[0m\n",
            "\u001b[?25h  Installing build dependencies ... \u001b[?25l\u001b[?25hdone\n",
            "  Getting requirements to build wheel ... \u001b[?25l\u001b[?25hdone\n",
            "  Preparing metadata (pyproject.toml) ... \u001b[?25l\u001b[?25hdone\n",
            "\u001b[2K     \u001b[90m━━━━━━━━━━━━━━━━━━━━━━━━━━━━━━━━━━━━━━━━\u001b[0m \u001b[32m283.7/283.7 kB\u001b[0m \u001b[31m18.1 MB/s\u001b[0m eta \u001b[36m0:00:00\u001b[0m\n",
            "\u001b[2K     \u001b[90m━━━━━━━━━━━━━━━━━━━━━━━━━━━━━━━━━━━━━━━━\u001b[0m \u001b[32m1.7/1.7 MB\u001b[0m \u001b[31m30.4 MB/s\u001b[0m eta \u001b[36m0:00:00\u001b[0m\n",
            "\u001b[2K     \u001b[90m━━━━━━━━━━━━━━━━━━━━━━━━━━━━━━━━━━━━━━━━\u001b[0m \u001b[32m67.6/67.6 kB\u001b[0m \u001b[31m3.2 MB/s\u001b[0m eta \u001b[36m0:00:00\u001b[0m\n",
            "\u001b[2K     \u001b[90m━━━━━━━━━━━━━━━━━━━━━━━━━━━━━━━━━━━━━━━━\u001b[0m \u001b[32m141.1/141.1 kB\u001b[0m \u001b[31m10.4 MB/s\u001b[0m eta \u001b[36m0:00:00\u001b[0m\n",
            "\u001b[2K     \u001b[90m━━━━━━━━━━━━━━━━━━━━━━━━━━━━━━━━━━━━━━━━\u001b[0m \u001b[32m75.6/75.6 kB\u001b[0m \u001b[31m6.9 MB/s\u001b[0m eta \u001b[36m0:00:00\u001b[0m\n",
            "\u001b[2K     \u001b[90m━━━━━━━━━━━━━━━━━━━━━━━━━━━━━━━━━━━━━━━━\u001b[0m \u001b[32m71.9/71.9 kB\u001b[0m \u001b[31m7.5 MB/s\u001b[0m eta \u001b[36m0:00:00\u001b[0m\n",
            "\u001b[2K     \u001b[90m━━━━━━━━━━━━━━━━━━━━━━━━━━━━━━━━━━━━━━━━\u001b[0m \u001b[32m53.6/53.6 kB\u001b[0m \u001b[31m5.7 MB/s\u001b[0m eta \u001b[36m0:00:00\u001b[0m\n",
            "\u001b[2K     \u001b[90m━━━━━━━━━━━━━━━━━━━━━━━━━━━━━━━━━━━━━━━━\u001b[0m \u001b[32m77.9/77.9 kB\u001b[0m \u001b[31m6.5 MB/s\u001b[0m eta \u001b[36m0:00:00\u001b[0m\n",
            "\u001b[2K     \u001b[90m━━━━━━━━━━━━━━━━━━━━━━━━━━━━━━━━━━━━━━━━\u001b[0m \u001b[32m58.3/58.3 kB\u001b[0m \u001b[31m5.4 MB/s\u001b[0m eta \u001b[36m0:00:00\u001b[0m\n",
            "\u001b[2K     \u001b[90m━━━━━━━━━━━━━━━━━━━━━━━━━━━━━━━━━━━━━━━━\u001b[0m \u001b[32m46.0/46.0 kB\u001b[0m \u001b[31m4.8 MB/s\u001b[0m eta \u001b[36m0:00:00\u001b[0m\n",
            "\u001b[2K     \u001b[90m━━━━━━━━━━━━━━━━━━━━━━━━━━━━━━━━━━━━━━━━\u001b[0m \u001b[32m52.5/52.5 kB\u001b[0m \u001b[31m4.9 MB/s\u001b[0m eta \u001b[36m0:00:00\u001b[0m\n",
            "\u001b[2K     \u001b[90m━━━━━━━━━━━━━━━━━━━━━━━━━━━━━━━━━━━━━━━━\u001b[0m \u001b[32m130.5/130.5 kB\u001b[0m \u001b[31m14.0 MB/s\u001b[0m eta \u001b[36m0:00:00\u001b[0m\n",
            "\u001b[2K     \u001b[90m━━━━━━━━━━━━━━━━━━━━━━━━━━━━━━━━━━━━━━━━\u001b[0m \u001b[32m341.4/341.4 kB\u001b[0m \u001b[31m29.4 MB/s\u001b[0m eta \u001b[36m0:00:00\u001b[0m\n",
            "\u001b[2K     \u001b[90m━━━━━━━━━━━━━━━━━━━━━━━━━━━━━━━━━━━━━━━━\u001b[0m \u001b[32m3.4/3.4 MB\u001b[0m \u001b[31m52.6 MB/s\u001b[0m eta \u001b[36m0:00:00\u001b[0m\n",
            "\u001b[2K     \u001b[90m━━━━━━━━━━━━━━━━━━━━━━━━━━━━━━━━━━━━━━━━\u001b[0m \u001b[32m1.2/1.2 MB\u001b[0m \u001b[31m45.8 MB/s\u001b[0m eta \u001b[36m0:00:00\u001b[0m\n",
            "\u001b[2K     \u001b[90m━━━━━━━━━━━━━━━━━━━━━━━━━━━━━━━━━━━━━━━━\u001b[0m \u001b[32m130.2/130.2 kB\u001b[0m \u001b[31m11.4 MB/s\u001b[0m eta \u001b[36m0:00:00\u001b[0m\n",
            "\u001b[2K     \u001b[90m━━━━━━━━━━━━━━━━━━━━━━━━━━━━━━━━━━━━━━━━\u001b[0m \u001b[32m307.7/307.7 kB\u001b[0m \u001b[31m25.3 MB/s\u001b[0m eta \u001b[36m0:00:00\u001b[0m\n",
            "\u001b[2K     \u001b[90m━━━━━━━━━━━━━━━━━━━━━━━━━━━━━━━━━━━━━━━━\u001b[0m \u001b[32m86.8/86.8 kB\u001b[0m \u001b[31m8.9 MB/s\u001b[0m eta \u001b[36m0:00:00\u001b[0m\n",
            "\u001b[?25h  Building wheel for google-search-results (setup.py) ... \u001b[?25l\u001b[?25hdone\n",
            "  Building wheel for pypika (pyproject.toml) ... \u001b[?25l\u001b[?25hdone\n"
          ]
        }
      ],
      "source": [
        "! pip install openai==0.28 langchain google-search-results chromadb tiktoken --quiet"
      ]
    },
    {
      "cell_type": "code",
      "source": [
        "import openai\n",
        "import IPython\n",
        "import os"
      ],
      "metadata": {
        "id": "4FspqRWnFn3l"
      },
      "execution_count": null,
      "outputs": []
    },
    {
      "cell_type": "code",
      "source": [
        "#configure openai key\n",
        "openai.api_key ="
      ],
      "metadata": {
        "id": "TYU4KB5oF3BO"
      },
      "execution_count": null,
      "outputs": []
    },
    {
      "cell_type": "code",
      "source": [
        "#code completion function\n",
        "def get_completion(message, model = 'gpt-3.5-turbo', temperature = 0, max_tokens = 350):\n",
        "  response = openai.ChatCompletion.create(\n",
        "    messages = message,\n",
        "    model = model,\n",
        "    temperature = temperature,\n",
        "    max_tokens = max_tokens\n",
        "  )\n",
        "\n",
        "  return response.choices[0].message['content']"
      ],
      "metadata": {
        "id": "YPWLfkhRF78B"
      },
      "execution_count": null,
      "outputs": []
    },
    {
      "cell_type": "markdown",
      "source": [
        "### Few-shot In-Context Learning\n",
        "\n",
        "Below we provide an example of few-shot prompting with demonstrations:"
      ],
      "metadata": {
        "id": "txyGi74eGsr7"
      }
    },
    {
      "cell_type": "code",
      "source": [
        "prompt = \"\"\" Your task is to classify an input text (delimited by ```) as either offensive or non-offensive.\n",
        "\n",
        "You the following example to guide your classification:\n",
        "\n",
        "Text: I love you\n",
        "Output: non-offensive\n",
        "\n",
        "Text: I dislike all those people working at the company\n",
        "Output: offensive\n",
        "\n",
        "Text: I think this feature is not ideal\n",
        "Output: non-offensive\n",
        "\n",
        "Text: Those people are so stupid\n",
        "Output: offensive\n",
        "\n",
        "Text: {user_input}\n",
        "Output:\n",
        "\n",
        "\n",
        "\"\"\"\n",
        "\n",
        "message = [\n",
        "    {\n",
        "        'role': 'user',\n",
        "        'content': prompt.format(user_input = \"``` I love playing mario ```\")\n",
        "    }\n",
        "]\n",
        "\n",
        "response = get_completion(message)\n",
        "print(response)"
      ],
      "metadata": {
        "colab": {
          "base_uri": "https://localhost:8080/"
        },
        "id": "mdT5llDMGpHf",
        "outputId": "b32ce5e8-643c-410d-bad7-8b8ad3d697d6"
      },
      "execution_count": null,
      "outputs": [
        {
          "output_type": "stream",
          "name": "stdout",
          "text": [
            "non-offensive\n"
          ]
        }
      ]
    },
    {
      "cell_type": "markdown",
      "source": [
        "### Chain-of-Though (CoT) Prompting\n",
        "\n",
        "Below is an example of CoT applied. Specifically, we aim to build a movie recommendation system using CoT.\n",
        "\n",
        "Let's first define a set of movies:"
      ],
      "metadata": {
        "id": "jP5rNA31IWXQ"
      }
    },
    {
      "cell_type": "code",
      "source": [
        "movies = \"\"\"\n",
        "The Enigma Code\n",
        "Category: Historical Drama\n",
        "Rating: 8.3/10\n",
        "Description: Set during World War II, this gripping historical drama follows the life of Alan Turing, a brilliant mathematician tasked with cracking the Enigma code used by the Nazis. His efforts contribute significantly to the Allies' victory.\n",
        "Actors: Benedict Cumberbatch, Keira Knightley, Matthew Goode\n",
        "Language: English\n",
        "Release Date: March 15, 2014\n",
        "Award Winner: Academy Award for Best Adapted Screenplay\n",
        "\n",
        "Shadows of the Samurai\n",
        "Category: Action/Adventure\n",
        "Rating: 7.9/10\n",
        "Description: In feudal Japan, a skilled samurai seeks vengeance against the corrupt warlord who murdered his master. With his swordsmanship and determination, he embarks on a dangerous journey to restore justice.\n",
        "Actors: Ken Watanabe, Tadanobu Asano, Rinko Kikuchi\n",
        "Language: Japanese\n",
        "Release Date: November 7, 2017\n",
        "Award Winner: None\n",
        "\n",
        "Mind Games\n",
        "Category: Psychological Thriller\n",
        "Rating: 8.1/10\n",
        "Description: A renowned psychologist becomes entangled in a twisted game of cat and mouse with a patient who harbors dark secrets. As their sessions progress, the lines between reality and deception blur, leading to a mind-bending climax.\n",
        "Actors: Leonardo DiCaprio, Natalie Portman, Michael Fassbender\n",
        "Language: English\n",
        "Release Date: August 22, 2019\n",
        "Award Winner: None\n",
        "\n",
        "La Casa del Tango\n",
        "Category: Musical/Drama\n",
        "Rating: 8.7/10\n",
        "Description: In the vibrant world of Buenos Aires, a passionate tango dancer finds love and inspiration amidst the backdrop of political unrest. This musical drama explores the power of dance and the pursuit of dreams.\n",
        "Actors: Antonio Banderas, Penélope Cruz, Javier Bardem\n",
        "Language: Spanish\n",
        "Release Date: June 5, 2020\n",
        "Award Winner: Golden Globe for Best Foreign Language Film\n",
        "\n",
        "Timeless Love\n",
        "Category: Romance/Fantasy\n",
        "Rating: 7.5/10\n",
        "Description: A magical encounter transports a modern-day writer back in time to Victorian England, where she falls in love with a charming aristocrat. As they navigate the complexities of time, their love is put to the ultimate test.\n",
        "Actors: Rachel McAdams, Tom Hiddleston, Emma Thompson\n",
        "Language: English\n",
        "Release Date: February 14, 2022\n",
        "Award Winner: None\n",
        "\n",
        "The Pursuit of Justice\n",
        "Category: Legal Drama\n",
        "Rating: 8.4/10\n",
        "Description: Inspired by true events, this gripping legal drama follows a determined lawyer's fight against a powerful pharmaceutical company responsible for a life-threatening drug. The courtroom battle becomes a quest for justice and redemption.\n",
        "Actors: Denzel Washington, Viola Davis, Michael B. Jordan\n",
        "Language: English\n",
        "Release Date: October 10, 2022\n",
        "Award Winner: None\n",
        "\n",
        "The Forgotten Island\n",
        "Category: Adventure/Mystery\n",
        "Rating: 7.6/10\n",
        "Description: A group of explorers stumbles upon a mysterious island believed to be uninhabited. As they uncover the island's secrets, they encounter deadly challenges and unravel an ancient civilization's enigma.\n",
        "Actors: Chris Pratt, Bryce Dallas Howard, Tom Holland\n",
        "Language: English\n",
        "Release Date: July 2, 2023\n",
        "Award Winner: None\n",
        "\n",
        "The Silent Witness\n",
        "Category: Crime/Thriller\n",
        "Rating: 8.2/10\n",
        "Description: A talented forensic pathologist becomes entangled in a high-stakes murder investigation when she discovers crucial evidence that points to a powerful criminal network. With her life on the line, she must outsmart the perpetrators.\n",
        "Actors: Emily Blunt, Jake Gyllenhaal, Mark Ruffalo\n",
        "Language: English\n",
        "Release Date: November 18, 2023\n",
        "Award Winner: None\n",
        "\n",
        "A Tale of Two Worlds\n",
        "Category: Fantasy/Adventure\n",
        "Rating: 7.8/10\n",
        "Description: When a young orphan discovers a magical portal to a parallel universe, she embarks on a thrilling adventure to save both realms from an impending disaster. Along the way, she learns about the power of friendship and self-belief.\n",
        "Actors: Millie Bobby Brown, Tom Holland, Helena Bonham Carter\n",
        "Language: English\n",
        "Release Date: April 5, 2024\n",
        "Award Winner: None\n",
        "\n",
        "A Symphony of Souls\n",
        "Category: Music/Drama\n",
        "Rating: 9.0/10\n",
        "Description: Set against the backdrop of a renowned symphony orchestra, this emotionally charged drama explores the lives and intertwining stories of its members. Through the power of music, they find solace, love, and redemption.\n",
        "Actors: Meryl Streep, Tom Hanks, Cate Blanchett\n",
        "Language: English\n",
        "Release Date: December 25, 2024\n",
        "Award Winner: None\n",
        "\"\"\""
      ],
      "metadata": {
        "id": "CSuTBRPHIN-3"
      },
      "execution_count": null,
      "outputs": []
    },
    {
      "cell_type": "markdown",
      "source": [
        "We then take those movies and list the different steps the model should perform. Notice that the after detailing the steps, we ask the model to providing the reasoning steps and the final response. This is a format you can use to elicit reasoning in LLMs."
      ],
      "metadata": {
        "id": "h1KZQ1WjIhyb"
      }
    },
    {
      "cell_type": "code",
      "source": [
        "# the system message contains the logic (step by step) for the system to follow\n",
        "system_message = \"\"\"\n",
        "You task is to make movie recommendations based on a user request (delimited by ```).\n",
        "\n",
        "Step 1: Check if the user is asking about movies. If the user is not asking about movies, just respond \"Please ask something about movies!\".\n",
        "\n",
        "Step 2: If the user is asking for a movie recommendation, check if they have any specific requests or interests.\n",
        "\n",
        "Step 3: Check if there are any movie/s we can recommend from the following: {movies}\n",
        "\n",
        "Step 4: Prepare a response to the user with the movie recommendation/s. The recommendation have to be about movies that are available in the list above. The response needs to have a friendly and helpful tone.\n",
        "\n",
        "Return a response with the following reasoning steps and final output to the user:\n",
        "Step 1: <Step 1 reasoning>\n",
        "Step 2: <Step 2 reasoning>\n",
        "Step 3: <Step 3 reasoning>\n",
        "Step 4: <final response>\n",
        "\"\"\"\n",
        "\n",
        "messages = [\n",
        "    {\n",
        "        \"role\": \"system\",\n",
        "        \"content\": system_message.format(movies=movies)\n",
        "    },\n",
        "    {\n",
        "        \"role\": \"user\",\n",
        "        \"content\": \"```Do you have any drama movies?```\"\n",
        "    }\n",
        "]\n",
        "\n",
        "movie_recommendation_response = get_completion(messages, temperature=0, max_tokens=500)\n",
        "\n",
        "print(movie_recommendation_response)"
      ],
      "metadata": {
        "colab": {
          "base_uri": "https://localhost:8080/"
        },
        "id": "ZR4soxnIIfOc",
        "outputId": "225dba90-4f80-4a78-c428-a4d3cf5b600a"
      },
      "execution_count": null,
      "outputs": [
        {
          "output_type": "stream",
          "name": "stdout",
          "text": [
            "Step 1: The user is asking about movies.\n",
            "\n",
            "Step 2: The user is specifically asking for drama movies.\n",
            "\n",
            "Step 3: Based on your interest in drama movies, I recommend the following:\n",
            "1. The Enigma Code\n",
            "   - Category: Historical Drama\n",
            "   - Rating: 8.3/10\n",
            "   - Description: Set during World War II, this gripping historical drama follows the life of Alan Turing, a brilliant mathematician tasked with cracking the Enigma code used by the Nazis.\n",
            "   - Actors: Benedict Cumberbatch, Keira Knightley, Matthew Goode\n",
            "   - Language: English\n",
            "   - Release Date: March 15, 2014\n",
            "   - Award Winner: Academy Award for Best Adapted Screenplay\n",
            "\n",
            "2. La Casa del Tango\n",
            "   - Category: Musical/Drama\n",
            "   - Rating: 8.7/10\n",
            "   - Description: In the vibrant world of Buenos Aires, a passionate tango dancer finds love and inspiration amidst the backdrop of political unrest.\n",
            "   - Actors: Antonio Banderas, Penélope Cruz, Javier Bardem\n",
            "   - Language: Spanish\n",
            "   - Release Date: June 5, 2020\n",
            "   - Award Winner: Golden Globe for Best Foreign Language Film\n",
            "\n",
            "Step 4: I recommend checking out \"The Enigma Code\" for a historical drama experience or \"La Casa del Tango\" for a musical drama set in Buenos Aires. Enjoy your movie night!\n"
          ]
        }
      ]
    },
    {
      "cell_type": "markdown",
      "source": [
        "### Prompt Chaining\n",
        "\n",
        "The example below demonstrates how to chain separate prompts to achieve a specific task. The previous prompt list all the reasoning steps. In the following prompt, we ask the model to extract only the final response to the user:"
      ],
      "metadata": {
        "id": "fxr5thkQJB7D"
      }
    },
    {
      "cell_type": "code",
      "source": [
        "from typing_extensions import final\n",
        "# Prompt 1: step by step reasoning (provided above)\n",
        "# Prompt 2: extract only the final response we will send to the user\n",
        "\n",
        "system_message_2 = \"\"\"\n",
        "You will be given a list of steps that a model has responded with. Your task is to extract only the full response in Step 4 from the following text: {movie_recommendation_response}\n",
        "\n",
        "Step 4:\n",
        "\"\"\"\n",
        "\n",
        "messages = [\n",
        "    {\n",
        "        \"role\": \"system\",\n",
        "        \"content\": system_message_2.format(movie_recommendation_response=movie_recommendation_response)\n",
        "    }\n",
        "]\n",
        "\n",
        "final_response = get_completion(messages, temperature=0)\n",
        "\n",
        "IPython.display.Markdown(final_response)"
      ],
      "metadata": {
        "colab": {
          "base_uri": "https://localhost:8080/",
          "height": 64
        },
        "id": "Gx8MG8esIv80",
        "outputId": "4d7868e0-d7d8-434b-fcf0-60805af7cea6"
      },
      "execution_count": null,
      "outputs": [
        {
          "output_type": "execute_result",
          "data": {
            "text/plain": [
              "<IPython.core.display.Markdown object>"
            ],
            "text/markdown": "I recommend checking out \"The Enigma Code\" for a historical drama experience or \"La Casa del Tango\" for a musical drama set in Buenos Aires. Enjoy your movie night!"
          },
          "metadata": {},
          "execution_count": 20
        }
      ]
    },
    {
      "cell_type": "markdown",
      "source": [
        "### ReAct\n",
        "\n",
        "The code below shows an example of combining LLMs with external tools to achieve a task. In particular, the example uses the ReAct framework to prompt and guide the model to the result by leveraging the LLM and a search engine. We will be using SerpAPI in the below example. As mentioned in the course introduction, you will need to register for a free account with SerpAPI to complete this part of the exercise. You can [register here](https://serpapi.com/)."
      ],
      "metadata": {
        "id": "xyBRfSV9OPAc"
      }
    },
    {
      "cell_type": "code",
      "source": [
        "!pip install -U langchain-community # Install the required package"
      ],
      "metadata": {
        "colab": {
          "base_uri": "https://localhost:8080/"
        },
        "id": "nUXjIONPO92x",
        "outputId": "daed5fd0-11bb-4d06-ec51-021745d2fd11"
      },
      "execution_count": null,
      "outputs": [
        {
          "output_type": "stream",
          "name": "stdout",
          "text": [
            "Collecting langchain-community\n",
            "  Downloading langchain_community-0.2.6-py3-none-any.whl (2.2 MB)\n",
            "\u001b[2K     \u001b[90m━━━━━━━━━━━━━━━━━━━━━━━━━━━━━━━━━━━━━━━━\u001b[0m \u001b[32m2.2/2.2 MB\u001b[0m \u001b[31m24.1 MB/s\u001b[0m eta \u001b[36m0:00:00\u001b[0m\n",
            "\u001b[?25hRequirement already satisfied: PyYAML>=5.3 in /usr/local/lib/python3.10/dist-packages (from langchain-community) (6.0.1)\n",
            "Requirement already satisfied: SQLAlchemy<3,>=1.4 in /usr/local/lib/python3.10/dist-packages (from langchain-community) (2.0.31)\n",
            "Requirement already satisfied: aiohttp<4.0.0,>=3.8.3 in /usr/local/lib/python3.10/dist-packages (from langchain-community) (3.9.5)\n",
            "Collecting dataclasses-json<0.7,>=0.5.7 (from langchain-community)\n",
            "  Downloading dataclasses_json-0.6.7-py3-none-any.whl (28 kB)\n",
            "Requirement already satisfied: langchain<0.3.0,>=0.2.6 in /usr/local/lib/python3.10/dist-packages (from langchain-community) (0.2.6)\n",
            "Requirement already satisfied: langchain-core<0.3.0,>=0.2.10 in /usr/local/lib/python3.10/dist-packages (from langchain-community) (0.2.11)\n",
            "Requirement already satisfied: langsmith<0.2.0,>=0.1.0 in /usr/local/lib/python3.10/dist-packages (from langchain-community) (0.1.83)\n",
            "Requirement already satisfied: numpy<2,>=1 in /usr/local/lib/python3.10/dist-packages (from langchain-community) (1.25.2)\n",
            "Requirement already satisfied: requests<3,>=2 in /usr/local/lib/python3.10/dist-packages (from langchain-community) (2.31.0)\n",
            "Requirement already satisfied: tenacity!=8.4.0,<9.0.0,>=8.1.0 in /usr/local/lib/python3.10/dist-packages (from langchain-community) (8.4.2)\n",
            "Requirement already satisfied: aiosignal>=1.1.2 in /usr/local/lib/python3.10/dist-packages (from aiohttp<4.0.0,>=3.8.3->langchain-community) (1.3.1)\n",
            "Requirement already satisfied: attrs>=17.3.0 in /usr/local/lib/python3.10/dist-packages (from aiohttp<4.0.0,>=3.8.3->langchain-community) (23.2.0)\n",
            "Requirement already satisfied: frozenlist>=1.1.1 in /usr/local/lib/python3.10/dist-packages (from aiohttp<4.0.0,>=3.8.3->langchain-community) (1.4.1)\n",
            "Requirement already satisfied: multidict<7.0,>=4.5 in /usr/local/lib/python3.10/dist-packages (from aiohttp<4.0.0,>=3.8.3->langchain-community) (6.0.5)\n",
            "Requirement already satisfied: yarl<2.0,>=1.0 in /usr/local/lib/python3.10/dist-packages (from aiohttp<4.0.0,>=3.8.3->langchain-community) (1.9.4)\n",
            "Requirement already satisfied: async-timeout<5.0,>=4.0 in /usr/local/lib/python3.10/dist-packages (from aiohttp<4.0.0,>=3.8.3->langchain-community) (4.0.3)\n",
            "Collecting marshmallow<4.0.0,>=3.18.0 (from dataclasses-json<0.7,>=0.5.7->langchain-community)\n",
            "  Downloading marshmallow-3.21.3-py3-none-any.whl (49 kB)\n",
            "\u001b[2K     \u001b[90m━━━━━━━━━━━━━━━━━━━━━━━━━━━━━━━━━━━━━━━━\u001b[0m \u001b[32m49.2/49.2 kB\u001b[0m \u001b[31m5.7 MB/s\u001b[0m eta \u001b[36m0:00:00\u001b[0m\n",
            "\u001b[?25hCollecting typing-inspect<1,>=0.4.0 (from dataclasses-json<0.7,>=0.5.7->langchain-community)\n",
            "  Downloading typing_inspect-0.9.0-py3-none-any.whl (8.8 kB)\n",
            "Requirement already satisfied: langchain-text-splitters<0.3.0,>=0.2.0 in /usr/local/lib/python3.10/dist-packages (from langchain<0.3.0,>=0.2.6->langchain-community) (0.2.2)\n",
            "Requirement already satisfied: pydantic<3,>=1 in /usr/local/lib/python3.10/dist-packages (from langchain<0.3.0,>=0.2.6->langchain-community) (2.7.4)\n",
            "Requirement already satisfied: jsonpatch<2.0,>=1.33 in /usr/local/lib/python3.10/dist-packages (from langchain-core<0.3.0,>=0.2.10->langchain-community) (1.33)\n",
            "Requirement already satisfied: packaging<25,>=23.2 in /usr/local/lib/python3.10/dist-packages (from langchain-core<0.3.0,>=0.2.10->langchain-community) (24.1)\n",
            "Requirement already satisfied: orjson<4.0.0,>=3.9.14 in /usr/local/lib/python3.10/dist-packages (from langsmith<0.2.0,>=0.1.0->langchain-community) (3.10.6)\n",
            "Requirement already satisfied: charset-normalizer<4,>=2 in /usr/local/lib/python3.10/dist-packages (from requests<3,>=2->langchain-community) (3.3.2)\n",
            "Requirement already satisfied: idna<4,>=2.5 in /usr/local/lib/python3.10/dist-packages (from requests<3,>=2->langchain-community) (3.7)\n",
            "Requirement already satisfied: urllib3<3,>=1.21.1 in /usr/local/lib/python3.10/dist-packages (from requests<3,>=2->langchain-community) (2.0.7)\n",
            "Requirement already satisfied: certifi>=2017.4.17 in /usr/local/lib/python3.10/dist-packages (from requests<3,>=2->langchain-community) (2024.6.2)\n",
            "Requirement already satisfied: typing-extensions>=4.6.0 in /usr/local/lib/python3.10/dist-packages (from SQLAlchemy<3,>=1.4->langchain-community) (4.12.2)\n",
            "Requirement already satisfied: greenlet!=0.4.17 in /usr/local/lib/python3.10/dist-packages (from SQLAlchemy<3,>=1.4->langchain-community) (3.0.3)\n",
            "Requirement already satisfied: jsonpointer>=1.9 in /usr/local/lib/python3.10/dist-packages (from jsonpatch<2.0,>=1.33->langchain-core<0.3.0,>=0.2.10->langchain-community) (3.0.0)\n",
            "Requirement already satisfied: annotated-types>=0.4.0 in /usr/local/lib/python3.10/dist-packages (from pydantic<3,>=1->langchain<0.3.0,>=0.2.6->langchain-community) (0.7.0)\n",
            "Requirement already satisfied: pydantic-core==2.18.4 in /usr/local/lib/python3.10/dist-packages (from pydantic<3,>=1->langchain<0.3.0,>=0.2.6->langchain-community) (2.18.4)\n",
            "Collecting mypy-extensions>=0.3.0 (from typing-inspect<1,>=0.4.0->dataclasses-json<0.7,>=0.5.7->langchain-community)\n",
            "  Downloading mypy_extensions-1.0.0-py3-none-any.whl (4.7 kB)\n",
            "Installing collected packages: mypy-extensions, marshmallow, typing-inspect, dataclasses-json, langchain-community\n",
            "Successfully installed dataclasses-json-0.6.7 langchain-community-0.2.6 marshmallow-3.21.3 mypy-extensions-1.0.0 typing-inspect-0.9.0\n"
          ]
        }
      ]
    },
    {
      "cell_type": "code",
      "source": [
        "#import neccessary libraries from langchain\n",
        "from langchain.agents import load_tools #used to create tools needed for the task\n",
        "from langchain.agents import AgentType #used to choose the agent type for your task\n",
        "from langchain.llms import OpenAI  #used to load openai model\n",
        "from langchain.agents import initialize_agent  #used to initialize the langchain agent"
      ],
      "metadata": {
        "id": "1axSzNbLJSQi"
      },
      "execution_count": null,
      "outputs": []
    },
    {
      "cell_type": "code",
      "source": [
        "#set the needed key\n",
        "os.environ['OPENAI_API_KEY'] =\n",
        "os.environ['SERPAPI_API_KEY'] = \"4d93e9c06a92aca7da1e9e5663869776f4373aff939b33ce296b245eb67b6ce3\""
      ],
      "metadata": {
        "id": "o_oLqV-TO18q"
      },
      "execution_count": null,
      "outputs": []
    },
    {
      "cell_type": "code",
      "source": [
        "#build the llm model using openai\n",
        "llm = OpenAI(temperature = 0)\n",
        "\n",
        "#tools to be used, serpapi for searching the web, llm-math for doing math\n",
        "tools = load_tools([\"serpapi\", 'llm-math'], llm = llm)\n",
        "\n",
        "#initialize the agent with the tools and llm, use zero_shot...\n",
        "agent = initialize_agent(tools, llm, agent = AgentType.ZERO_SHOT_REACT_DESCRIPTION, verbose = True)"
      ],
      "metadata": {
        "id": "AAJgFn6KPpVt"
      },
      "execution_count": null,
      "outputs": []
    },
    {
      "cell_type": "code",
      "source": [
        "# run the agent with the prompt or question you're interested in\n",
        "agent.run(\"Which team won the 2023 NBA finals?\")"
      ],
      "metadata": {
        "colab": {
          "base_uri": "https://localhost:8080/",
          "height": 296
        },
        "id": "TApViy53QZZQ",
        "outputId": "041fbeb5-3eb3-4933-bb29-7bc2b7972130"
      },
      "execution_count": null,
      "outputs": [
        {
          "output_type": "stream",
          "name": "stdout",
          "text": [
            "\n",
            "\n",
            "\u001b[1m> Entering new AgentExecutor chain...\u001b[0m\n",
            "\u001b[32;1m\u001b[1;3m I should search for the answer using a search engine.\n",
            "Action: Search\n",
            "Action Input: \"2023 NBA finals winner\"\u001b[0m\n",
            "Observation: \u001b[36;1m\u001b[1;3mDenver Nuggets\u001b[0m\n",
            "Thought:\u001b[32;1m\u001b[1;3m I should double check the answer using a calculator.\n",
            "Action: Calculator\n",
            "Action Input: \"2023 - 2023\"\u001b[0m\n",
            "Observation: \u001b[33;1m\u001b[1;3mAnswer: 0\u001b[0m\n",
            "Thought:\u001b[32;1m\u001b[1;3m I now know the final answer.\n",
            "Final Answer: The Denver Nuggets won the 2023 NBA finals.\u001b[0m\n",
            "\n",
            "\u001b[1m> Finished chain.\u001b[0m\n"
          ]
        },
        {
          "output_type": "execute_result",
          "data": {
            "text/plain": [
              "'The Denver Nuggets won the 2023 NBA finals.'"
            ],
            "application/vnd.google.colaboratory.intrinsic+json": {
              "type": "string"
            }
          },
          "metadata": {},
          "execution_count": 35
        }
      ]
    },
    {
      "cell_type": "code",
      "source": [
        "# run the agent with the prompt or question you're interested in\n",
        "agent.run(\"What is the best programming language?\")"
      ],
      "metadata": {
        "colab": {
          "base_uri": "https://localhost:8080/",
          "height": 472
        },
        "id": "5MSxat6LQ98K",
        "outputId": "ce349a0a-768e-4175-e275-c19e2683e945"
      },
      "execution_count": null,
      "outputs": [
        {
          "output_type": "stream",
          "name": "stdout",
          "text": [
            "\n",
            "\n",
            "\u001b[1m> Entering new AgentExecutor chain...\u001b[0m\n",
            "\u001b[32;1m\u001b[1;3m There are many different programming languages, so it's important to consider what criteria we are using to determine the \"best\" one.\n",
            "Action: Search\n",
            "Action Input: \"best programming language\"\u001b[0m\n",
            "Observation: \u001b[36;1m\u001b[1;3m['1. Javascript. JavaScript is a high-level programming language that is one of the core technologies of the World Wide Web. · 2. Python · 3. Go · 4.', \"JavaScript: It's like the Beyoncé of programming languages – always in the spotlight. With frameworks like React, Angular, and Vue.js, ...\", 'Top Programming Languages to Learn · Python · JavaScript · HTML/CSS · C · C++ · Go (or Golang) · Swift · Java.', \"According to Stack Overflow's 2023 Developer's Survey, JavaScript is the most popular language among developers for the eleventh year in a row.\", 'The most complete is Python. It has huge amount of libraries and vast uses. It also has a delightful specification and syntax. The most ...', 'Rust, Elixir, Clojure, Typescript,and Julia are at the top of the list of Most Loved Programming Languages. However, in looking at the last ...', 'Other programming languages ; 38, Transact-SQL, 0.40% ; 39, VBScript, 0.36% ; 40, ABAP, 0.33% ; 41, PowerShell, 0.33%.', \"Python. Python is always recommended if you're looking for an easy and even fun programming language to learn first. Rather than having to jump into strict ...\", \"My favorites in order: C++, Kotlin, and Python. I'm still learning Kotlin and expect it to pass C++. 22nd Apr 2018, 3:27 AM.\", \"Tap to unmute. Your browser can't play this video. Learn more · @Hallden_. Subscribe. BEST PROGRAMMING LANGUAGE. 101. Dislike.\"]\u001b[0m\n",
            "Thought:\u001b[32;1m\u001b[1;3m Based on this search, it seems like JavaScript, Python, and Go are popular choices for the best programming language.\n",
            "Action: Search\n",
            "Action Input: \"criteria for best programming language\"\u001b[0m\n",
            "Observation: \u001b[36;1m\u001b[1;3mCommunity support\u001b[0m\n",
            "Thought:\u001b[32;1m\u001b[1;3m It looks like community support is an important factor in determining the best programming language.\n",
            "Action: Search\n",
            "Action Input: \"community support for programming languages\"\u001b[0m\n",
            "Observation: \u001b[36;1m\u001b[1;3mHashnode\u001b[0m\n",
            "Thought:\u001b[32;1m\u001b[1;3m Hashnode seems to be a popular platform for community support for programming languages.\n",
            "Action: Search\n",
            "Action Input: \"Hashnode programming language rankings\"\u001b[0m\n",
            "Observation: \u001b[36;1m\u001b[1;3m['Python Python is ranked first as the most popular programming language of 2022. It is among the most effective programming languages you can ...', 'top programming language (undefined1 article)', \"I think I've used at least Python, Java, Kotlin, Bash, Rust, Javascript, Matlab and Fortran 100+ hours (maybe others). Python would be my favorite for any small ...\", 'In the TIOBE ranking report, JavaScript has been ranked under the top 10 programming languages for several years consistently. In fact, the ...', 'In this chapter, we will share with you some of the top programming language ... The rankings of PL repos measured by Z-score in 2021. The ...', 'That JavaScript should top this list of most-used languages should come as no surprise. Other surveys have also shown that JavaScript is an intensely ...', 'Python. 16% ; JavaScript. 50% ; PHP. 14% ; Other (add it in comments). 20%.', 'I like learning things and rather then telling you THE TOP 20 PROGRAMMING LANGUAGES TO LEARN IN 2023. I want my stuff to be more of a ...', 'Unveiling the Top 5 Most Popular Programming Languages of 2023 · Introduction: In the ever-evolving world of technology, programming languages play a crucial ...', '5 Websites to Learn Programming for Beginners · Here are some recommended sites for learning programming techniques that may help you improve your programming ...']\u001b[0m\n",
            "Thought:\u001b[32;1m\u001b[1;3m Based on these rankings, it seems like Python and JavaScript are consistently ranked as the top programming languages.\n",
            "Thought: I now know the final answer.\n",
            "Final Answer: Based on various rankings and criteria, it seems like Python and JavaScript are considered the best programming languages.\u001b[0m\n",
            "\n",
            "\u001b[1m> Finished chain.\u001b[0m\n"
          ]
        },
        {
          "output_type": "execute_result",
          "data": {
            "text/plain": [
              "'Based on various rankings and criteria, it seems like Python and JavaScript are considered the best programming languages.'"
            ],
            "application/vnd.google.colaboratory.intrinsic+json": {
              "type": "string"
            }
          },
          "metadata": {},
          "execution_count": 36
        }
      ]
    },
    {
      "cell_type": "markdown",
      "source": [
        "### Data Augmentation / RAG\n",
        "\n",
        "The example below demonstrates how to apply data augmented generation."
      ],
      "metadata": {
        "id": "FqD6pWgYV4EX"
      }
    },
    {
      "cell_type": "markdown",
      "source": [
        "We first load the necessary LangChain modules:"
      ],
      "metadata": {
        "id": "DwIELNHhXvE9"
      }
    },
    {
      "cell_type": "code",
      "source": [
        "from langchain.embeddings.openai import OpenAIEmbeddings\n",
        "from langchain.embeddings.cohere import CohereEmbeddings\n",
        "from langchain.text_splitter import CharacterTextSplitter\n",
        "from langchain.vectorstores.elastic_vector_search import ElasticVectorSearch\n",
        "from langchain.vectorstores import Chroma\n",
        "from langchain.docstore.document import Document\n",
        "from langchain.prompts import PromptTemplate\n",
        "\n",
        "from langchain.chains.qa_with_sources import load_qa_with_sources_chain\n",
        "from langchain.llms import OpenAI"
      ],
      "metadata": {
        "id": "vIBZDooUVXez"
      },
      "execution_count": null,
      "outputs": []
    },
    {
      "cell_type": "markdown",
      "source": [
        "Next, we split the loaded text file into chunks and embed the chunks using OpenAI Embeddings."
      ],
      "metadata": {
        "id": "5aCGxfF4YGwk"
      }
    },
    {
      "cell_type": "code",
      "source": [
        "!pip install python-docx"
      ],
      "metadata": {
        "colab": {
          "base_uri": "https://localhost:8080/"
        },
        "id": "oLC3IX4uaL3A",
        "outputId": "ab6eec6e-0bf7-4f2d-eb7e-3c62e3054ff3"
      },
      "execution_count": null,
      "outputs": [
        {
          "output_type": "stream",
          "name": "stdout",
          "text": [
            "Collecting python-docx\n",
            "  Downloading python_docx-1.1.2-py3-none-any.whl (244 kB)\n",
            "\u001b[2K     \u001b[90m━━━━━━━━━━━━━━━━━━━━━━━━━━━━━━━━━━━━━━━━\u001b[0m \u001b[32m244.3/244.3 kB\u001b[0m \u001b[31m4.4 MB/s\u001b[0m eta \u001b[36m0:00:00\u001b[0m\n",
            "\u001b[?25hRequirement already satisfied: lxml>=3.1.0 in /usr/local/lib/python3.10/dist-packages (from python-docx) (4.9.4)\n",
            "Requirement already satisfied: typing-extensions>=4.9.0 in /usr/local/lib/python3.10/dist-packages (from python-docx) (4.12.2)\n",
            "Installing collected packages: python-docx\n",
            "Successfully installed python-docx-1.1.2\n"
          ]
        }
      ]
    },
    {
      "cell_type": "code",
      "source": [
        "from docx import Document\n",
        "\n",
        "# Assuming the file is named 'yoruba_learning_app.docx'\n",
        "doc = Document('/content/CREATING A BETTER YORUBA LANGUAGE LEARNING APP.docx')\n",
        "text_data = '\\n'.join([paragraph.text for paragraph in doc.paragraphs])\n",
        "\n",
        "# Now you can work with text_data\n",
        "print(text_data[:500])  # Print first 500 characters"
      ],
      "metadata": {
        "colab": {
          "base_uri": "https://localhost:8080/"
        },
        "id": "A6ET-OxcXyCd",
        "outputId": "2df9e91e-eab9-4a4e-bb00-6f7842ade99e"
      },
      "execution_count": null,
      "outputs": [
        {
          "output_type": "stream",
          "name": "stdout",
          "text": [
            "CREATING A BETTER YORUBA LANGUAGE LEARNING APP: LEVERAGING COLLECTIVE INTELLIGENCE AND EXPERTISE\n",
            "\n",
            "I am currently pursuing my graduate studies in “collective intelligence” at Muhammed VI Polytechnic University (UM6P), where I am enrolled in a course called “Computer Science Method in Collective Intelligence.” This course emphasizes the application of computer tools to implement group intelligence concepts, specifically addressing how technology can be leveraged to solve large-scale societal probl\n"
          ]
        }
      ]
    },
    {
      "cell_type": "code",
      "source": [
        "# split text into chunks\n",
        "text_splitter = CharacterTextSplitter(chunk_size=1000, chunk_overlap=0, separator=\" \")\n",
        "texts = text_splitter.split_text(text_data)\n",
        "\n",
        "# embeddings obtained from OpenAI\n",
        "embeddings = OpenAIEmbeddings()"
      ],
      "metadata": {
        "id": "iA2IQJZRY33A"
      },
      "execution_count": null,
      "outputs": []
    },
    {
      "cell_type": "markdown",
      "source": [
        "The next step is to store the embeddings into Chroma, a dedicated vector storage. And finally, we perform a search by querying Chroma."
      ],
      "metadata": {
        "id": "UD3EM264awJR"
      }
    },
    {
      "cell_type": "code",
      "source": [
        "# test search\n",
        "docsearch = Chroma.from_texts(texts, embeddings, metadatas=[{\"source\": str(i)} for i in range(len(texts))])\n",
        "\n",
        "query = \"What is akomolede?\"\n",
        "docs = docsearch.similarity_search(query)\n",
        "\n",
        "chain = load_qa_with_sources_chain(OpenAI(temperature=0), chain_type=\"stuff\")\n",
        "chain({\"input_documents\": docs, \"question\": query}, return_only_outputs=True)"
      ],
      "metadata": {
        "colab": {
          "base_uri": "https://localhost:8080/"
        },
        "id": "NIGyJBTLZCz-",
        "outputId": "b0267df5-fe4f-4629-ce88-d82f35f399d0"
      },
      "execution_count": null,
      "outputs": [
        {
          "output_type": "execute_result",
          "data": {
            "text/plain": [
              "{'output_text': \" Akomolede is an app for learning the Yoruba language, created by an author who assembled a team of experts in Yoruba language and graphics design. It is currently available on Google's Play Store and aims to address deficiencies in existing Yoruba language learning apps. \\nSOURCES: 4, 1\"}"
            ]
          },
          "metadata": {},
          "execution_count": 49
        }
      ]
    },
    {
      "cell_type": "code",
      "source": [],
      "metadata": {
        "id": "pxGKs7ZAbECn"
      },
      "execution_count": null,
      "outputs": []
    }
  ]
}